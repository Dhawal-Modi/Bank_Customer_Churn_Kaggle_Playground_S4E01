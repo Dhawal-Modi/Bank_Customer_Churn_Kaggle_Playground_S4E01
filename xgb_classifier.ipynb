{
 "cells": [
  {
   "cell_type": "code",
   "execution_count": null,
   "id": "initial_id",
   "metadata": {
    "collapsed": true
   },
   "outputs": [],
   "source": [
    "import pandas as pd\n",
    "from xgboost import XGBClassifier\n",
    "from sklearn.preprocessing import LabelEncoder\n",
    "from sklearn.model_selection import train_test_split\n",
    "from sklearn.metrics import roc_auc_score"
   ]
  },
  {
   "cell_type": "code",
   "outputs": [],
   "source": [
    "train_data_path = \"dataset/train.csv\"\n",
    "test_data_path = \"dataset/test.csv\"\n",
    "\n",
    "train_dataframe = pd.read_csv(train_data_path)\n",
    "test_dataframe = pd.read_csv(test_data_path)\n",
    "\n",
    "#train_dataframe.head(5)"
   ],
   "metadata": {
    "collapsed": false
   },
   "id": "78ad35eea737dc4f",
   "execution_count": null
  },
  {
   "cell_type": "code",
   "outputs": [],
   "source": [
    "label_encoder = LabelEncoder()\n",
    "\n",
    "train_dataframe['Gender'] = label_encoder.fit_transform(train_dataframe['Gender'])\n",
    "train_dataframe = pd.get_dummies(train_dataframe, columns=['Geography'])\n",
    "x = train_dataframe.drop(['Exited','Surname','CustomerId'], axis=1)\n",
    "y = train_dataframe['Exited']\n",
    "\n",
    "#x_train.head(10)\n",
    "#y_train.head(10)\n",
    "\n",
    "test_dataframe['Gender'] = label_encoder.fit_transform(test_dataframe['Gender'])\n",
    "test_dataframe = pd.get_dummies(test_dataframe, columns=['Geography'])\n",
    "x_test = test_dataframe.drop(['Surname','CustomerId'], axis=1)\n",
    "x_test.head(10)\n",
    "\n",
    "\n",
    "x_train,x_test,y_train,y_test=train_test_split(x,y,test_size=0.25,random_state=42)"
   ],
   "metadata": {
    "collapsed": false
   },
   "id": "bc503e38645971d1",
   "execution_count": null
  },
  {
   "cell_type": "code",
   "outputs": [],
   "source": [
    "model = XGBClassifier(objective='binary:logistic')\n",
    "model.fit(x_train, y_train)"
   ],
   "metadata": {
    "collapsed": false
   },
   "id": "ae5833a4b48ca3bb",
   "execution_count": null
  },
  {
   "cell_type": "code",
   "outputs": [],
   "source": [
    "y_pred_proba = model.predict_proba(x_test)\n",
    "y_pred_proba=[i[1] for i in y_pred_proba]\n",
    "print(\"XGB ROC score =\",roc_auc_score(y_test,y_pred_proba))"
   ],
   "metadata": {
    "collapsed": false
   },
   "id": "d710643dfb21756a",
   "execution_count": null
  },
  {
   "cell_type": "code",
   "outputs": [],
   "source": [
    "output = x_test\n",
    "output['Exited'] = y_pred_proba"
   ],
   "metadata": {
    "collapsed": false
   },
   "id": "9ca1b1d1939bc5fc",
   "execution_count": null
  },
  {
   "cell_type": "code",
   "outputs": [],
   "source": [
    "columns_to_keep = ['id', 'Exited']\n",
    "\n",
    "# Find columns to drop\n",
    "columns_to_drop = [col for col in output.columns if col not in columns_to_keep]\n",
    "\n",
    "# Drop the columns\n",
    "output.drop(columns=columns_to_drop, inplace=True)\n",
    "\n",
    "output.head(5)"
   ],
   "metadata": {
    "collapsed": false
   },
   "id": "f982c749a6008f75",
   "execution_count": null
  },
  {
   "cell_type": "code",
   "outputs": [],
   "source": [
    "output.to_csv('output/submission.csv', index=False)"
   ],
   "metadata": {
    "collapsed": false
   },
   "id": "5387c45edff38d05",
   "execution_count": null
  }
 ],
 "metadata": {
  "kernelspec": {
   "display_name": "Python 3",
   "language": "python",
   "name": "python3"
  },
  "language_info": {
   "codemirror_mode": {
    "name": "ipython",
    "version": 2
   },
   "file_extension": ".py",
   "mimetype": "text/x-python",
   "name": "python",
   "nbconvert_exporter": "python",
   "pygments_lexer": "ipython2",
   "version": "2.7.6"
  }
 },
 "nbformat": 4,
 "nbformat_minor": 5
}
